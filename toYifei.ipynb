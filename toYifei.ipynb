{
 "cells": [
  {
   "cell_type": "code",
   "execution_count": null,
   "metadata": {
    "collapsed": true
   },
   "outputs": [],
   "source": [
    "import numpy as np\n",
    "class TwoDiceGame(object):\n",
    "    def play(self):\n",
    "        winnings=0\n",
    "        two_of_same_seen=False\n",
    "        while True:\n",
    "            if two_of_same_seen:\n",
    "                if winnings>=3:\n",
    "                    return winnings\n",
    "                if np.random.randint(4)==0:\n",
    "                    return 0 \n",
    "            else:\n",
    "                two_of_same_seen=np.random.randint(2)==0\n",
    "            winnings+=1\n",
    "game=TwoDiceGame()\n",
    "game.play()"
   ]
  }
 ],
 "metadata": {
  "kernelspec": {
   "display_name": "Python 3",
   "language": "python",
   "name": "python3"
  }
 },
 "nbformat": 4,
 "nbformat_minor": 2
}
