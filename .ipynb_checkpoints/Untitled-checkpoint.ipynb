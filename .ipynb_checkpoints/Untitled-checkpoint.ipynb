{
 "cells": [
  {
   "cell_type": "code",
   "execution_count": null,
   "metadata": {
    "collapsed": true
   },
   "outputs": [],
   "source": [
    "def number_of_moves(dimension):\n",
    "    vertex = [0] * dimension\n",
    "    move_count = 0\n",
    "    while sum(vertex)<dimension:\n",
    "        axis_choice = random\n",
    "        \n",
    "number_of_trials = 10\n",
    "trials = [number_of_moves(3) for i in range(number_of_trials)]\n",
    "number_moves_count = {trial: 0 for trial in trials}\n",
    "for trial in trials:\n",
    "    number_moves_count[trial]+=1\n",
    "number_moves_count"
   ]
  }
 ],
 "metadata": {
  "kernelspec": {
   "display_name": "Python 3",
   "language": "python",
   "name": "python3"
  },
  "language_info": {
   "codemirror_mode": {
    "name": "ipython",
    "version": 3
   },
   "file_extension": ".py",
   "mimetype": "text/x-python",
   "name": "python",
   "nbconvert_exporter": "python",
   "pygments_lexer": "ipython3",
   "version": "3.6.1"
  }
 },
 "nbformat": 4,
 "nbformat_minor": 2
}
